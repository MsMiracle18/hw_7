{
  "nbformat": 4,
  "nbformat_minor": 0,
  "metadata": {
    "colab": {
      "provenance": []
    },
    "kernelspec": {
      "name": "python3",
      "display_name": "Python 3"
    },
    "language_info": {
      "name": "python"
    }
  },
  "cells": [
    {
      "cell_type": "code",
      "source": [
        "!pip install scikit-surprise\n",
        "from surprise import SVD, SVDpp, NMF\n",
        "from surprise import Dataset\n",
        "from surprise.model_selection import cross_validate,GridSearchCV"
      ],
      "metadata": {
        "id": "4_TT0lTOa82L",
        "colab": {
          "base_uri": "https://localhost:8080/"
        },
        "outputId": "4d2f369c-84d2-459f-95de-5c26f9de5241"
      },
      "execution_count": 3,
      "outputs": [
        {
          "output_type": "stream",
          "name": "stdout",
          "text": [
            "Requirement already satisfied: scikit-surprise in /usr/local/lib/python3.10/dist-packages (1.1.3)\n",
            "Requirement already satisfied: joblib>=1.0.0 in /usr/local/lib/python3.10/dist-packages (from scikit-surprise) (1.3.2)\n",
            "Requirement already satisfied: numpy>=1.17.3 in /usr/local/lib/python3.10/dist-packages (from scikit-surprise) (1.23.5)\n",
            "Requirement already satisfied: scipy>=1.3.2 in /usr/local/lib/python3.10/dist-packages (from scikit-surprise) (1.11.4)\n"
          ]
        }
      ]
    },
    {
      "cell_type": "code",
      "source": [
        "data = Dataset.load_builtin('ml-100k',prompt=False)\n",
        "algos = [\n",
        "    {'algo': SVD, 'param_grid': {'n_epochs': [5, 10], 'lr_all': [0.002, 0.005], 'reg_all': [0.4, 0.6]}},\n",
        "    {'algo': SVDpp, 'param_grid': {'n_epochs': [5, 10], 'lr_all': [0.002, 0.005], 'reg_all': [0.4, 0.6]}},\n",
        "    {'algo': NMF, 'param_grid': {'n_epochs': [5, 10]}}\n",
        "]\n",
        "for i in algos:\n",
        "    algo = i['algo']\n",
        "    param_grid = i['param_grid']\n",
        "\n",
        "    gs= GridSearchCV(algo, param_grid, measures=['rmse','mae'], cv=3)\n",
        "    gs.fit(data)\n",
        "\n",
        "    print(f\"Best parameters for {algo.__name__}: {gs.best_params['rmse']}; {gs.best_score['rmse']}\")"
      ],
      "metadata": {
        "colab": {
          "base_uri": "https://localhost:8080/"
        },
        "id": "Ho4qKah_zK6v",
        "outputId": "324e0d1d-abaa-4583-bf2e-9d0320fc48d8"
      },
      "execution_count": 6,
      "outputs": [
        {
          "output_type": "stream",
          "name": "stdout",
          "text": [
            "Best parameters for SVD: {'n_epochs': 10, 'lr_all': 0.005, 'reg_all': 0.4}; 0.9634873790379638\n",
            "Best parameters for SVDpp: {'n_epochs': 10, 'lr_all': 0.005, 'reg_all': 0.4}; 0.9640552425864041\n",
            "Best parameters for NMF: {'n_epochs': 10}; 1.0025441408235922\n"
          ]
        }
      ]
    }
  ]
}